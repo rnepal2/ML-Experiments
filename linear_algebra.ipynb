{
 "cells": [
  {
   "cell_type": "markdown",
   "metadata": {},
   "source": [
    "## Linear Algebra\n",
    "\n",
    "*By:* **Rabindra Nepal** \n"
   ]
  },
  {
   "cell_type": "code",
   "execution_count": 1,
   "metadata": {},
   "outputs": [],
   "source": [
    "# dependencies\n",
    "\n",
    "import math\n",
    "import numpy as np\n",
    "from numpy.linalg import norm\n",
    "import matplotlib.pyplot as plt\n",
    "%matplotlib inline"
   ]
  },
  {
   "cell_type": "markdown",
   "metadata": {},
   "source": [
    "## 1. Distances and Norms"
   ]
  },
  {
   "cell_type": "code",
   "execution_count": 2,
   "metadata": {},
   "outputs": [],
   "source": [
    "# 1.1\n",
    "# cosine similarity\n",
    "\n",
    "def cosine_similarity(a, b):\n",
    "    ''' a and b are arrays of same shape/size'''\n",
    "    \n",
    "    # let us confirm first that a and b have same size\n",
    "    assert a.shape == b.shape\n",
    "\n",
    "    # magnitudes of each vector\n",
    "    mag_a, mag_b = norm(a), norm(b)\n",
    "    \n",
    "    if mag_a == 0 or mag_b == 0:\n",
    "        raise ValueError('At least one of the vectors has magnitude zero.')\n",
    " \n",
    "    return np.dot(a, b)/(norm(a) * norm(b))"
   ]
  },
  {
   "cell_type": "markdown",
   "metadata": {},
   "source": [
    "1.2\n",
    "\n",
    "a) **Cosine Similarity:**\n",
    "It measures the similarity between two non-zero vectors in an inner product space measuring the cosine of angle between those two vectors. The dot product of two vectors is the projection of one vector to another, therefore, the cosine similarity measures the closeness of two vectors.\n",
    "\n",
    "b)\n",
    "Since $\\cos(\\theta) \\in [-1, 1]$, similarity score of 0 implies that two vectors perpendicular to each other i.e. most disimilar vectors.\n",
    "\n",
    "c)\n",
    "Similarity score of 1 means that the two vectors are exactly same whereas the score of -1 means they are exactly opposite."
   ]
  },
  {
   "cell_type": "code",
   "execution_count": 3,
   "metadata": {},
   "outputs": [],
   "source": [
    "# 1.3\n",
    "# a.\n",
    "\n",
    "x1 = np.array([4, -3])\n",
    "x2 = np.array([8, -6])\n",
    "x3 = np.array([-3, -4])"
   ]
  },
  {
   "cell_type": "code",
   "execution_count": 4,
   "metadata": {},
   "outputs": [
    {
     "data": {
      "text/plain": [
       "1.0"
      ]
     },
     "execution_count": 4,
     "metadata": {},
     "output_type": "execute_result"
    }
   ],
   "source": [
    "# b.\n",
    "\n",
    "cosine_similarity(x1, x2)"
   ]
  },
  {
   "cell_type": "code",
   "execution_count": 5,
   "metadata": {},
   "outputs": [],
   "source": [
    "# cos \\theta = 1 => x1 and x2 are collinear"
   ]
  },
  {
   "cell_type": "code",
   "execution_count": 6,
   "metadata": {},
   "outputs": [
    {
     "data": {
      "text/plain": [
       "0.0"
      ]
     },
     "execution_count": 6,
     "metadata": {},
     "output_type": "execute_result"
    }
   ],
   "source": [
    "# c.\n",
    "\n",
    "cosine_similarity(x1, x3)"
   ]
  },
  {
   "cell_type": "code",
   "execution_count": 7,
   "metadata": {},
   "outputs": [],
   "source": [
    "# cos \\theta = 0 => x1 and x3 are orthogonal"
   ]
  },
  {
   "cell_type": "code",
   "execution_count": 8,
   "metadata": {},
   "outputs": [
    {
     "data": {
      "text/plain": [
       "array([-10,   4])"
      ]
     },
     "execution_count": 8,
     "metadata": {},
     "output_type": "execute_result"
    }
   ],
   "source": [
    "# d.\n",
    "\n",
    "# random x4\n",
    "x4 = np.random.randint(low=-10, high=10, size=2)\n",
    "x4"
   ]
  },
  {
   "cell_type": "code",
   "execution_count": 9,
   "metadata": {},
   "outputs": [
    {
     "name": "stdout",
     "output_type": "stream",
     "text": [
      "Cosine similarity of [ 4 -3] and [ 8 -6] is 1.\n"
     ]
    }
   ],
   "source": [
    "# 1.4\n",
    "\n",
    "cosx1x2 = cosine_similarity(x1, x2)\n",
    "print('Cosine similarity of %s and %s is %d.' % (x1, x2, cosx1x2))"
   ]
  },
  {
   "cell_type": "code",
   "execution_count": 10,
   "metadata": {},
   "outputs": [
    {
     "name": "stdout",
     "output_type": "stream",
     "text": [
      "Cosine similarity of [ 4 -3] and [-3 -4] is 0.\n"
     ]
    }
   ],
   "source": [
    "cosx1x3 = cosine_similarity(x1, x3)\n",
    "print('Cosine similarity of %s and %s is %d.' % (x1, x3, cosx1x3))"
   ]
  },
  {
   "cell_type": "code",
   "execution_count": 11,
   "metadata": {},
   "outputs": [
    {
     "name": "stdout",
     "output_type": "stream",
     "text": [
      "Cosine similarity of [ 4 -3] and [-10   4] is 0.\n"
     ]
    }
   ],
   "source": [
    "cosx1x4 = cosine_similarity(x1, x4)\n",
    "print('Cosine similarity of %s and %s is %d.' % (x1, x4, cosx1x4))"
   ]
  },
  {
   "cell_type": "code",
   "execution_count": 12,
   "metadata": {},
   "outputs": [
    {
     "data": {
      "image/png": "[encoded data removed]",
      "text/plain": [
       "<Figure size 432x288 with 1 Axes>"
      ]
     },
     "metadata": {
      "needs_background": "light"
     },
     "output_type": "display_data"
    }
   ],
   "source": [
    "# 1.5\n",
    "# plotting the all four vectors on xy-plane\n",
    "plt.figure(figsize=(6, 4))\n",
    "plt.quiver(x2[0], x2[1], scale=30, color='blue', label='x2')\n",
    "plt.quiver(x1[0], x1[1], scale=30, color='red', label='x1')\n",
    "plt.quiver(x3[0], x3[1], scale=30, color='black', label='x3')\n",
    "plt.quiver(x4[0], x4[1], scale=30, color='green', label='x4')\n",
    "plt.legend()\n",
    "plt.xlabel('x')\n",
    "plt.ylabel('y');"
   ]
  },
  {
   "cell_type": "markdown",
   "metadata": {},
   "source": [
    "As shown in figure above, vectors x1 and x2 are collinear and x1 and x3 are orthogonal to each other."
   ]
  },
  {
   "cell_type": "code",
   "execution_count": 13,
   "metadata": {},
   "outputs": [
    {
     "name": "stdout",
     "output_type": "stream",
     "text": [
      "L1 norm of x4:  14.0\n",
      "L2 norm of x4:  10.770329614269007\n",
      "L4 norm of x4:  10.063394616598183\n",
      "L10 norm of x4:  10.000104852652527\n"
     ]
    }
   ],
   "source": [
    "# 1.6\n",
    "\n",
    "# for x4\n",
    "# L1 norm\n",
    "\n",
    "print('L1 norm of x4: ', np.linalg.norm(x4, ord=1))\n",
    "\n",
    "print('L2 norm of x4: ', np.linalg.norm(x4, ord=2))\n",
    "\n",
    "print('L4 norm of x4: ', np.linalg.norm(x4, ord=4))\n",
    "\n",
    "print('L10 norm of x4: ', np.linalg.norm(x4, ord=10))"
   ]
  },
  {
   "cell_type": "code",
   "execution_count": 14,
   "metadata": {},
   "outputs": [],
   "source": [
    "# 1.7\n",
    "# distance for ord=n\n",
    "\n",
    "def manhattan_distance(a, b):\n",
    "    \n",
    "    assert a.shape == b.shape\n",
    "    \n",
    "    distance = 0\n",
    "    for i in range(len(a)):\n",
    "        distance += abs(a[i] - b[i])\n",
    "    return distance\n",
    "\n",
    "def euclidean_distance(a, b):\n",
    "    \n",
    "    assert a.shape == b.shape\n",
    "    \n",
    "    distance = 0\n",
    "    for i in range(len(a)):\n",
    "        distance += (a[i] - b[i])**2.0\n",
    "    return distance**(1./2)\n",
    "\n",
    "def l4_distance(a, b):\n",
    "    \n",
    "    assert a.shape == b.shape\n",
    "    \n",
    "    distance = 0\n",
    "    for i in range(len(a)):\n",
    "        distance += (a[i] - b[i])**4.0\n",
    "    return distance**(1./4)\n",
    "\n",
    "def l10_distance(a, b):\n",
    "    \n",
    "    assert a.shape == b.shape\n",
    "    \n",
    "    distance = 0.0\n",
    "    for i in range(len(a)):\n",
    "        distance += (a[i] - b[i])**10.0\n",
    "    return distance**(1.0/10)\n",
    "\n",
    "def l20_distance(a, b):\n",
    "    \n",
    "    assert a.shape == b.shape\n",
    "    \n",
    "    distance = 0.0\n",
    "    for i in range(len(a)):\n",
    "        distance += (a[i] - b[i])**20.0\n",
    "    return distance**(1.0/20)"
   ]
  },
  {
   "cell_type": "code",
   "execution_count": 15,
   "metadata": {},
   "outputs": [
    {
     "name": "stdout",
     "output_type": "stream",
     "text": [
      "Manhattan distance between x1 and x4 is 21.\n"
     ]
    }
   ],
   "source": [
    "dist = manhattan_distance(x1, x4)\n",
    "print('Manhattan distance between x1 and x4 is %d.' % dist)"
   ]
  },
  {
   "cell_type": "code",
   "execution_count": 16,
   "metadata": {},
   "outputs": [
    {
     "name": "stdout",
     "output_type": "stream",
     "text": [
      "Euclidean distance between x1 and x4 is 15.\n"
     ]
    }
   ],
   "source": [
    "dist = euclidean_distance(x1, x4)\n",
    "print('Euclidean distance between x1 and x4 is %d.' % dist)"
   ]
  },
  {
   "cell_type": "code",
   "execution_count": 17,
   "metadata": {},
   "outputs": [
    {
     "name": "stdout",
     "output_type": "stream",
     "text": [
      "L4 distance between x1 and x4 is 14.\n"
     ]
    }
   ],
   "source": [
    "dist = l4_distance(x1, x4)\n",
    "print('L4 distance between x1 and x4 is %d.' % dist)"
   ]
  },
  {
   "cell_type": "code",
   "execution_count": 18,
   "metadata": {},
   "outputs": [
    {
     "name": "stdout",
     "output_type": "stream",
     "text": [
      "L10 distance between x1 and x4 is 14.001367.\n"
     ]
    }
   ],
   "source": [
    "dist = l10_distance(x1, x4)\n",
    "print('L10 distance between x1 and x4 is %f.' % dist)"
   ]
  },
  {
   "cell_type": "code",
   "execution_count": 19,
   "metadata": {},
   "outputs": [
    {
     "name": "stdout",
     "output_type": "stream",
     "text": [
      "L10 distance between x1 and x4 is 14.000001.\n"
     ]
    }
   ],
   "source": [
    "dist = l20_distance(x1, x4)\n",
    "print('L10 distance between x1 and x4 is %f.' % dist)"
   ]
  },
  {
   "cell_type": "markdown",
   "metadata": {},
   "source": [
    "## 2. Rank, Matrix Inverses and Solving Linear Systems"
   ]
  },
  {
   "cell_type": "code",
   "execution_count": 20,
   "metadata": {},
   "outputs": [
    {
     "name": "stdout",
     "output_type": "stream",
     "text": [
      "Matrix Mat is: \n",
      " [[ 8.98284725  0.46598279  3.76715685]\n",
      " [-8.03269592  0.09947017  0.03530441]\n",
      " [-8.23689424 -9.13449309  3.09868078]]\n",
      "====================\n",
      "rank of Mat is  3\n"
     ]
    }
   ],
   "source": [
    "# 2.1\n",
    "\n",
    "# setting random seed\n",
    "seed = 402\n",
    "np.random.seed(seed=seed)\n",
    "\n",
    "# required matrix Mat\n",
    "Mat = 10 - 20 * np.random.random((3,3)) \n",
    "\n",
    "\n",
    "# a.\n",
    "print('Matrix Mat is: \\n', Mat)\n",
    "print('='*20)\n",
    "# b.\n",
    "print('rank of Mat is ', np.linalg.matrix_rank(Mat))"
   ]
  },
  {
   "cell_type": "markdown",
   "metadata": {},
   "source": [
    "**2.2**\n",
    "\n",
    "Rank: the number of the linearly independent rows of a matrix.\n",
    "\n",
    "* If the rank of a square matrix (n $\\times$ n) is less than n, then the matrix does not have an inverse of it. \n"
   ]
  },
  {
   "cell_type": "code",
   "execution_count": 21,
   "metadata": {},
   "outputs": [
    {
     "name": "stdout",
     "output_type": "stream",
     "text": [
      "inverse of newMat: \n",
      " [[ 0.00212627 -0.12087492 -0.0012078 ]\n",
      " [ 0.08293177  0.1984454  -0.10308353]\n",
      " [ 0.25012371  0.2636813   0.01563106]]\n"
     ]
    }
   ],
   "source": [
    "# 2.3\n",
    "# inverse of Mat\n",
    "\n",
    "newMatInverse = np.linalg.inv(Mat)\n",
    "print('inverse of newMat: \\n', newMatInverse)"
   ]
  },
  {
   "cell_type": "code",
   "execution_count": 22,
   "metadata": {},
   "outputs": [
    {
     "name": "stdout",
     "output_type": "stream",
     "text": [
      "x: \n",
      " [-0.24324697  0.17057196  0.82437947]\n"
     ]
    }
   ],
   "source": [
    "# 2.4\n",
    "\n",
    "b = np.array([1, 2, 3])\n",
    "x = np.matmul(np.linalg.inv(Mat), b)\n",
    "\n",
    "# 2.4.a\n",
    "print('x: \\n', x)"
   ]
  },
  {
   "cell_type": "code",
   "execution_count": 23,
   "metadata": {},
   "outputs": [
    {
     "name": "stdout",
     "output_type": "stream",
     "text": [
      "Mat * x:  [1. 2. 3.]\n"
     ]
    }
   ],
   "source": [
    "# 2.4.b\n",
    "\n",
    "ans = np.matmul(Mat, x)\n",
    "print('Mat * x: ', ans)"
   ]
  },
  {
   "cell_type": "code",
   "execution_count": 24,
   "metadata": {},
   "outputs": [
    {
     "name": "stdout",
     "output_type": "stream",
     "text": [
      "x:  [-0.24324697  0.17057196  0.82437947]\n"
     ]
    }
   ],
   "source": [
    "# 2. 5\n",
    "# Using numpy.linalg.solve function:\n",
    "\n",
    "x = np.linalg.solve(Mat, b)\n",
    "\n",
    "# 2.5.a.\n",
    "print('x: ', x)\n",
    "\n",
    "# 2.5.b - Okay"
   ]
  },
  {
   "cell_type": "code",
   "execution_count": 25,
   "metadata": {},
   "outputs": [
    {
     "name": "stdout",
     "output_type": "stream",
     "text": [
      "newMat: \n",
      " [[ 1 -1  1]\n",
      " [-3  2  4]\n",
      " [-1  0  6]]\n"
     ]
    }
   ],
   "source": [
    "# 2.6\n",
    "\n",
    "newMat = np.array([[1, -1, 1], [-3, 2, 4], [-1, 0, 6]])\n",
    "\n",
    "# 2.6.a\n",
    "print('newMat: \\n', newMat)"
   ]
  },
  {
   "cell_type": "code",
   "execution_count": 26,
   "metadata": {},
   "outputs": [
    {
     "name": "stdout",
     "output_type": "stream",
     "text": [
      "Inverse of newMat: \n",
      " [[-6.23575333e+15 -3.11787667e+15  3.11787667e+15]\n",
      " [-7.27504555e+15 -3.63752278e+15  3.63752278e+15]\n",
      " [-1.03929222e+15 -5.19646111e+14  5.19646111e+14]]\n",
      "====================\n",
      "rank of newMat:  2\n"
     ]
    }
   ],
   "source": [
    "# 2.6.b\n",
    "\n",
    "newMatInverse = np.linalg.inv(newMat)\n",
    "print('Inverse of newMat: \\n', newMatInverse)\n",
    "print('='*20)\n",
    "print('rank of newMat: ', np.linalg.matrix_rank(newMat))"
   ]
  },
  {
   "cell_type": "code",
   "execution_count": 27,
   "metadata": {},
   "outputs": [
    {
     "name": "stdout",
     "output_type": "stream",
     "text": [
      "newMat * newMatInverse: \n",
      " [[-6.23575333e+15  3.11787667e+15  3.11787667e+15]\n",
      " [ 2.18251367e+16 -7.27504555e+15  1.45500911e+16]\n",
      " [ 1.03929222e+15 -0.00000000e+00  3.11787667e+15]]\n"
     ]
    }
   ],
   "source": [
    "# 2.6.c\n",
    "print('newMat * newMatInverse: \\n', newMat * newMatInverse)"
   ]
  },
  {
   "cell_type": "code",
   "execution_count": 28,
   "metadata": {},
   "outputs": [
    {
     "name": "stdout",
     "output_type": "stream",
     "text": [
      "x:  [-3.11787667e+15 -3.63752278e+15 -5.19646111e+14]\n"
     ]
    }
   ],
   "source": [
    "# 2.6.d\n",
    "\n",
    "b = np.array([1, 2, 3])\n",
    "x = np.linalg.solve(newMat, b)\n",
    "print('x: ', x)"
   ]
  },
  {
   "cell_type": "markdown",
   "metadata": {},
   "source": [
    "*(2.6.e).*  Clearly, the solution for x shows that there is something wrong. But we did not get any error using the numpy functions. This is due to the floating point values which is leading a zero to a very small number of ~ 1e-15 or so. Due to which, the numpy functions did not show any errors and gave the answers but they are clearly meaningless and wrong. \n",
    "\n",
    "\n",
    "This is dangerous and we need to be very careful in using these functions while writing Machine Learning algorithms. We can probably write some checks to avoid the situations like this. "
   ]
  },
  {
   "cell_type": "code",
   "execution_count": 29,
   "metadata": {},
   "outputs": [],
   "source": [
    "import warnings\n",
    "warnings.simplefilter(action='ignore', category=FutureWarning)"
   ]
  },
  {
   "cell_type": "code",
   "execution_count": 30,
   "metadata": {},
   "outputs": [
    {
     "name": "stdout",
     "output_type": "stream",
     "text": [
      "solution for x: \n",
      " [ 0.03100775 -0.10271318  0.53294574]\n"
     ]
    }
   ],
   "source": [
    "# 2.7\n",
    "\n",
    "x, r, rank, s = np.linalg.lstsq(newMat, b)\n",
    "\n",
    "# 2.7.a.\n",
    "print('solution for x: \\n', x)"
   ]
  },
  {
   "cell_type": "code",
   "execution_count": 31,
   "metadata": {},
   "outputs": [
    {
     "data": {
      "text/plain": [
       "2"
      ]
     },
     "execution_count": 31,
     "metadata": {},
     "output_type": "execute_result"
    }
   ],
   "source": [
    "# rank of newMat given above\n",
    "rank"
   ]
  },
  {
   "cell_type": "code",
   "execution_count": 32,
   "metadata": {},
   "outputs": [
    {
     "name": "stdout",
     "output_type": "stream",
     "text": [
      "b_hat = newMat * solution: \n",
      " [0.66666667 1.83333333 3.16666667]\n"
     ]
    }
   ],
   "source": [
    "# 2.7.b.\n",
    "b_hat = np.matmul(newMat, x)\n",
    "print('b_hat = newMat * solution: \\n', b_hat)"
   ]
  },
  {
   "cell_type": "code",
   "execution_count": 33,
   "metadata": {},
   "outputs": [
    {
     "name": "stdout",
     "output_type": "stream",
     "text": [
      "Euclidean distance between b and b_hat: \n",
      " 0.408248290463863\n"
     ]
    }
   ],
   "source": [
    "# 2.7.c\n",
    "# Euclidean distance betwee b and b_hat\n",
    "distance = math.sqrt(np.sum([(b[i] - b_hat[i])**2 for i in range(len(b))]))\n",
    "print('Euclidean distance between b and b_hat: \\n', distance)"
   ]
  },
  {
   "cell_type": "markdown",
   "metadata": {},
   "source": [
    "## 3. Determinants, Eigenvalues, and Positive Definite Matrices"
   ]
  },
  {
   "cell_type": "code",
   "execution_count": 34,
   "metadata": {},
   "outputs": [
    {
     "name": "stdout",
     "output_type": "stream",
     "text": [
      "Mat2: \n",
      " [[ 5.33799785 11.97540026  8.02491684]\n",
      " [ 5.21633489  8.37893737  8.15336839]\n",
      " [ 2.05418684  7.30982403  4.45857477]]\n"
     ]
    }
   ],
   "source": [
    "# 3.1\n",
    "\n",
    "# setting seed for random numbers\n",
    "seed = 88\n",
    "np.random.seed(seed=seed)\n",
    "\n",
    "Mat2 = np.random.normal(5, math.sqrt(10), size=(3,3))\n",
    "print('Mat2: \\n', Mat2)"
   ]
  },
  {
   "cell_type": "code",
   "execution_count": 35,
   "metadata": {},
   "outputs": [
    {
     "name": "stdout",
     "output_type": "stream",
     "text": [
      "Determinant of Mat2:  -28.801935084011454\n"
     ]
    }
   ],
   "source": [
    "# 3.2\n",
    "\n",
    "det_Mat2 = np.linalg.det(Mat2)\n",
    "print('Determinant of Mat2: ', det_Mat2)"
   ]
  },
  {
   "cell_type": "markdown",
   "metadata": {},
   "source": [
    "*(3.3).* If a matrix represents a linear transformation, then the determinant of that matrix corresponds to the magnitude of volume magnification of the region before and after the transformation by the matrix. So if the transformation matrix is 2I: after this linear transformation the volume of the region is increased by 4 as the det(2I) = 4. \n",
    "\n",
    "The negative value of the determinant suggests that the transformation corresponding to that matrix will lead to the decrease in the volume of the region after the transformation by the matrix."
   ]
  },
  {
   "cell_type": "code",
   "execution_count": 36,
   "metadata": {},
   "outputs": [
    {
     "name": "stdout",
     "output_type": "stream",
     "text": [
      "Eigenvalues of Mat2 are: \n",
      " [19.75530817  0.65297116 -2.23276935]\n",
      "====================\n",
      "Eigenvectors of Mat2 are: \n",
      " [[-0.70696977 -0.8022028   0.42320826]\n",
      " [-0.59649451 -0.08242487 -0.67359825]\n",
      " [-0.37998426  0.59133477  0.60593743]]\n"
     ]
    }
   ],
   "source": [
    "# 3.4\n",
    "eig_values, eig_vectors = np.linalg.eig(Mat2)\n",
    "print('Eigenvalues of Mat2 are: \\n', eig_values)\n",
    "print('='*20)\n",
    "print('Eigenvectors of Mat2 are: \\n', eig_vectors)"
   ]
  },
  {
   "cell_type": "markdown",
   "metadata": {},
   "source": [
    "*(3.5).* For a matrix, which represents a transformation map, the eigenvectors represent the directions along which the transformation matrix will map to. And the corresponding eigenvalues suggest that the transformation along the direction of eigenvector is magnified by the value of eigenvalue. For example, if a matrix has eigenvectors [1, -1] and [-1, 1] and eigenvalues 1 and -1, this means that the matrix transforms a system/matrix when acted on along the direction of [1, -1] by the multiple of magnitude of 1 and along the direction [-1, 1] by the magnification of -1 respectively.\n",
    "\n",
    "If eigenvalue of a matrix is 0, then the matrix will have zero determinant and hence will not be invertible i.e. the inverse of the matrix does not exist."
   ]
  },
  {
   "cell_type": "code",
   "execution_count": null,
   "metadata": {},
   "outputs": [],
   "source": []
  }
 ],
 "metadata": {
  "kernelspec": {
   "display_name": "Python 3",
   "language": "python",
   "name": "python3"
  },
  "language_info": {
   "codemirror_mode": {
    "name": "ipython",
    "version": 3
   },
   "file_extension": ".py",
   "mimetype": "text/x-python",
   "name": "python",
   "nbconvert_exporter": "python",
   "pygments_lexer": "ipython3",
   "version": "3.6.7"
  }
 },
 "nbformat": 4,
 "nbformat_minor": 2
}
